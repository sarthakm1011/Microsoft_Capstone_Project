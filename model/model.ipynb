{
 "cells": [
  {
   "cell_type": "code",
   "execution_count": 3,
   "metadata": {},
   "outputs": [],
   "source": [
    "import numpy as np\n",
    "import pandas as pd\n",
    "import matplotlib.pyplot as plt\n",
    "%matplotlib inline"
   ]
  },
  {
   "cell_type": "code",
   "execution_count": 4,
   "metadata": {},
   "outputs": [
    {
     "name": "stdout",
     "output_type": "stream",
     "text": [
      "(3198, 34)\n"
     ]
    }
   ],
   "source": [
    "d = pd.read_csv('../data/train_values.csv')\n",
    "target = pd.read_csv('../data/train_labels.csv')\n",
    "print d.shape"
   ]
  },
  {
   "cell_type": "code",
   "execution_count": 5,
   "metadata": {},
   "outputs": [
    {
     "data": {
      "text/plain": [
       "row_id                              6276\n",
       "heart_disease_mortality_per_100k     512\n",
       "dtype: int64"
      ]
     },
     "execution_count": 5,
     "metadata": {},
     "output_type": "execute_result"
    }
   ],
   "source": [
    "target.max()\n",
    "#target.min()\n",
    "#target.shape\n"
   ]
  },
  {
   "cell_type": "code",
   "execution_count": 6,
   "metadata": {},
   "outputs": [],
   "source": [
    "# def Embeddings(nn.Module):\n",
    "#     def __init__()"
   ]
  },
  {
   "cell_type": "code",
   "execution_count": 7,
   "metadata": {},
   "outputs": [
    {
     "data": {
      "text/plain": [
       "row_id                                                                                           6276\n",
       "area__rucc                                          Nonmetro - Urban population of 20,000 or more,...\n",
       "area__urban_influence                               Small-in a metro area with fewer than 1 millio...\n",
       "econ__economic_typology                                                                    Recreation\n",
       "econ__pct_civilian_labor                                                                            1\n",
       "econ__pct_unemployment                                                                          0.248\n",
       "econ__pct_uninsured_adults                                                                      0.496\n",
       "econ__pct_uninsured_children                                                                    0.281\n",
       "demo__pct_female                                                                                0.573\n",
       "demo__pct_below_18_years_of_age                                                                 0.417\n",
       "demo__pct_aged_65_years_and_older                                                               0.346\n",
       "demo__pct_hispanic                                                                              0.932\n",
       "demo__pct_non_hispanic_african_american                                                         0.858\n",
       "demo__pct_non_hispanic_white                                                                     0.99\n",
       "demo__pct_american_indian_or_alaskan_native                                                     0.859\n",
       "demo__pct_asian                                                                                 0.341\n",
       "demo__pct_adults_less_than_a_high_school_diploma                                             0.473526\n",
       "demo__pct_adults_with_high_school_diploma                                                    0.558912\n",
       "demo__pct_adults_with_some_college                                                           0.473953\n",
       "demo__pct_adults_bachelors_or_higher                                                         0.798995\n",
       "demo__birth_rate_per_1k                                                                            29\n",
       "demo__death_rate_per_1k                                                                            27\n",
       "health__pct_adult_obesity                                                                       0.471\n",
       "health__pct_adult_smoking                                                                       0.513\n",
       "health__pct_diabetes                                                                            0.203\n",
       "health__pct_low_birthweight                                                                     0.238\n",
       "health__pct_excessive_drinking                                                                  0.367\n",
       "health__pct_physical_inacticity                                                                 0.442\n",
       "health__air_pollution_particulate_matter                                                           15\n",
       "health__homicides_per_100k                                                                      50.49\n",
       "health__motor_vehicle_crash_deaths_per_100k                                                    110.45\n",
       "health__pop_per_dentist                                                                         28130\n",
       "health__pop_per_primary_care_physician                                                          23399\n",
       "yr                                                                                                  b\n",
       "year                                                                                                1\n",
       "area_region                                                                                         8\n",
       "economic_typology                                                                                   5\n",
       "urban_influence                                                                                    11\n",
       "dtype: object"
      ]
     },
     "execution_count": 7,
     "metadata": {},
     "output_type": "execute_result"
    }
   ],
   "source": [
    "d.yr = pd.Categorical(d.yr)\n",
    "d['year'] = d.yr.cat.codes\n",
    "\n",
    "\n",
    "\n",
    "d.area__rucc = pd.Categorical(d.area__rucc)\n",
    "d['area_region'] = d.area__rucc.cat.codes\n",
    "\n",
    "d.econ__economic_typology = pd.Categorical(d.econ__economic_typology)\n",
    "d['economic_typology'] = d.econ__economic_typology.cat.codes\n",
    "\n",
    "d.area__urban_influence = pd.Categorical(d.area__urban_influence)\n",
    "d['urban_influence'] = d.area__urban_influence.cat.codes\n",
    "\n",
    "d.max()"
   ]
  },
  {
   "cell_type": "code",
   "execution_count": null,
   "metadata": {},
   "outputs": [],
   "source": []
  },
  {
   "cell_type": "code",
   "execution_count": 8,
   "metadata": {},
   "outputs": [
    {
     "name": "stdout",
     "output_type": "stream",
     "text": [
      "(3198, 33)\n"
     ]
    }
   ],
   "source": [
    "d2 = d.drop(['area__rucc','area__urban_influence','econ__economic_typology','yr','health__homicides_per_100k'],axis=1)\n",
    "print d2.shape"
   ]
  },
  {
   "cell_type": "code",
   "execution_count": 9,
   "metadata": {},
   "outputs": [
    {
     "name": "stderr",
     "output_type": "stream",
     "text": [
      "/usr/local/lib/python2.7/dist-packages/ipykernel_launcher.py:2: SettingWithCopyWarning: \n",
      "A value is trying to be set on a copy of a slice from a DataFrame\n",
      "\n",
      "See the caveats in the documentation: http://pandas.pydata.org/pandas-docs/stable/indexing.html#indexing-view-versus-copy\n",
      "  \n"
     ]
    },
    {
     "data": {
      "text/html": [
       "<div>\n",
       "<style scoped>\n",
       "    .dataframe tbody tr th:only-of-type {\n",
       "        vertical-align: middle;\n",
       "    }\n",
       "\n",
       "    .dataframe tbody tr th {\n",
       "        vertical-align: top;\n",
       "    }\n",
       "\n",
       "    .dataframe thead th {\n",
       "        text-align: right;\n",
       "    }\n",
       "</style>\n",
       "<table border=\"1\" class=\"dataframe\">\n",
       "  <thead>\n",
       "    <tr style=\"text-align: right;\">\n",
       "      <th></th>\n",
       "      <th>row_id</th>\n",
       "      <th>econ__pct_civilian_labor</th>\n",
       "      <th>econ__pct_unemployment</th>\n",
       "      <th>econ__pct_uninsured_adults</th>\n",
       "      <th>econ__pct_uninsured_children</th>\n",
       "      <th>demo__pct_female</th>\n",
       "      <th>demo__pct_below_18_years_of_age</th>\n",
       "      <th>demo__pct_aged_65_years_and_older</th>\n",
       "      <th>demo__pct_hispanic</th>\n",
       "      <th>demo__pct_non_hispanic_african_american</th>\n",
       "      <th>...</th>\n",
       "      <th>health__pct_excessive_drinking</th>\n",
       "      <th>health__pct_physical_inacticity</th>\n",
       "      <th>health__air_pollution_particulate_matter</th>\n",
       "      <th>health__motor_vehicle_crash_deaths_per_100k</th>\n",
       "      <th>health__pop_per_dentist</th>\n",
       "      <th>health__pop_per_primary_care_physician</th>\n",
       "      <th>year</th>\n",
       "      <th>area_region</th>\n",
       "      <th>economic_typology</th>\n",
       "      <th>urban_influence</th>\n",
       "    </tr>\n",
       "  </thead>\n",
       "  <tbody>\n",
       "    <tr>\n",
       "      <th>0</th>\n",
       "      <td>0</td>\n",
       "      <td>0.408</td>\n",
       "      <td>0.057</td>\n",
       "      <td>0.254</td>\n",
       "      <td>0.066</td>\n",
       "      <td>0.516</td>\n",
       "      <td>0.235</td>\n",
       "      <td>0.176</td>\n",
       "      <td>0.109</td>\n",
       "      <td>0.039</td>\n",
       "      <td>...</td>\n",
       "      <td>NaN</td>\n",
       "      <td>0.332</td>\n",
       "      <td>0.75</td>\n",
       "      <td>0.11136</td>\n",
       "      <td>0.047174</td>\n",
       "      <td>0.05601</td>\n",
       "      <td>0</td>\n",
       "      <td>2</td>\n",
       "      <td>2</td>\n",
       "      <td>11</td>\n",
       "    </tr>\n",
       "  </tbody>\n",
       "</table>\n",
       "<p>1 rows × 33 columns</p>\n",
       "</div>"
      ],
      "text/plain": [
       "   row_id  econ__pct_civilian_labor  econ__pct_unemployment  \\\n",
       "0       0                     0.408                   0.057   \n",
       "\n",
       "   econ__pct_uninsured_adults  econ__pct_uninsured_children  demo__pct_female  \\\n",
       "0                       0.254                         0.066             0.516   \n",
       "\n",
       "   demo__pct_below_18_years_of_age  demo__pct_aged_65_years_and_older  \\\n",
       "0                            0.235                              0.176   \n",
       "\n",
       "   demo__pct_hispanic  demo__pct_non_hispanic_african_american  \\\n",
       "0               0.109                                    0.039   \n",
       "\n",
       "        ...         health__pct_excessive_drinking  \\\n",
       "0       ...                                    NaN   \n",
       "\n",
       "   health__pct_physical_inacticity  health__air_pollution_particulate_matter  \\\n",
       "0                            0.332                                      0.75   \n",
       "\n",
       "   health__motor_vehicle_crash_deaths_per_100k  health__pop_per_dentist  \\\n",
       "0                                      0.11136                 0.047174   \n",
       "\n",
       "   health__pop_per_primary_care_physician  year  area_region  \\\n",
       "0                                 0.05601     0            2   \n",
       "\n",
       "   economic_typology  urban_influence  \n",
       "0                  2               11  \n",
       "\n",
       "[1 rows x 33 columns]"
      ]
     },
     "execution_count": 9,
     "metadata": {},
     "output_type": "execute_result"
    }
   ],
   "source": [
    "def min_max_scale(d):\n",
    "    d[:] = ((d[:] - d.min()) / (d.max() - d.min())) \n",
    "\n",
    "min_max_scale(d2['demo__birth_rate_per_1k'])\n",
    "min_max_scale(d2['demo__death_rate_per_1k'])\n",
    "min_max_scale(d2['health__air_pollution_particulate_matter'])\n",
    "min_max_scale(d2['health__motor_vehicle_crash_deaths_per_100k'])\n",
    "min_max_scale(d2['health__pop_per_dentist'])\n",
    "min_max_scale(d2['health__pop_per_primary_care_physician'])\n",
    "d2.head(1)"
   ]
  },
  {
   "cell_type": "code",
   "execution_count": 10,
   "metadata": {},
   "outputs": [],
   "source": [
    "# # ONE HOT ENCODING\n",
    "temp = pd.get_dummies(d2['year'],prefix=['year']) \n",
    "d2 = d2.join(temp,how='outer')\n",
    "\n",
    "# temp = pd.get_dummies(d2['area_region'],prefix=['area_region']) \n",
    "# d2 = d2.join(temp,how='outer')\n",
    "\n",
    "# temp = pd.get_dummies(d2['economic_typology'],prefix=['economic_typology']) \n",
    "# d2 = d2.join(temp,how='outer')\n",
    "\n",
    "# temp = pd.get_dummies(d2['urban_influence'],prefix=['urban_influence']) \n",
    "# d2 = d2.join(temp,how='outer')\n",
    "\n",
    "# d2.head(5)"
   ]
  },
  {
   "cell_type": "code",
   "execution_count": 11,
   "metadata": {
    "scrolled": true
   },
   "outputs": [],
   "source": [
    "d2 = d2.drop(['urban_influence','area_region','economic_typology','year'],axis=1)\n",
    "#d2.max()"
   ]
  },
  {
   "cell_type": "code",
   "execution_count": 12,
   "metadata": {},
   "outputs": [
    {
     "name": "stdout",
     "output_type": "stream",
     "text": [
      "(3198, 38)\n",
      "(3198, 31)\n",
      "(2405, 31)\n",
      "(2405, 30)\n",
      "(2405,)\n"
     ]
    }
   ],
   "source": [
    "# DATA PROCESSING\n",
    "# One Hot Categorical values1 rows × 35 columns\n",
    "\n",
    "\n",
    "\n",
    "print d.shape\n",
    "print d2.shape\n",
    "d2['health__pct_excessive_drinking'].fillna(d2['health__pct_excessive_drinking'].mean(),inplace=True) \n",
    "\n",
    "d2 = d2[np.isfinite(d2['health__pct_adult_smoking'])] \n",
    "d2 = d2[np.isfinite(d2['health__motor_vehicle_crash_deaths_per_100k'])] \n",
    "d2 = d2[np.isfinite(d2['health__pop_per_dentist'])] \n",
    "d2 = d2[np.isfinite(d2['health__pop_per_primary_care_physician'])]\n",
    "d2 = d2[np.isfinite(d2['health__air_pollution_particulate_matter'])]\n",
    "d2 = d2[np.isfinite(d2['health__pct_low_birthweight'])]\n",
    "# print d2.shape\n",
    "# print target.shape\n",
    "# print target.head(5)\n",
    "# print target.isnull().sum()\n",
    "\n",
    "dataset = d2.join(target.set_index('row_id'), on='row_id',how='inner')\n",
    "dataset = dataset.drop(['row_id'],axis=1)\n",
    "print dataset.shape\n",
    "#print dataset.isnull().sum()\n",
    "\n",
    "#print dataset.info()\n",
    "x = dataset.values[:,:-1]\n",
    "y = dataset.values[:,-1]\n",
    "print x.shape\n",
    "print y.shape"
   ]
  },
  {
   "cell_type": "code",
   "execution_count": 13,
   "metadata": {},
   "outputs": [
    {
     "name": "stdout",
     "output_type": "stream",
     "text": [
      "Random Forest\n",
      "RMSE: 27.219124282805684\n",
      "Accuracy of Random Forest is 77.58911735755187%\n",
      "============================================================\n",
      "LinearRegression\n",
      "RMSE: 29.447729624600452\n",
      "Accuracy of Linear Regression is 73.76903317931493%\n",
      "============================================================\n"
     ]
    }
   ],
   "source": [
    "# MODEL SELECTION Step 1\n",
    "# Random Forest with maximum Accuracy of around 75%\n",
    "from sklearn.ensemble import RandomForestRegressor\n",
    "from sklearn.cross_validation import train_test_split\n",
    "from sklearn.linear_model import LinearRegression\n",
    "from sklearn.neural_network import MLPRegressor\n",
    "from sklearn.metrics import mean_squared_error\n",
    "from sklearn.linear_model import LinearRegression, Lasso, Ridge\n",
    "from sklearn.ensemble import RandomForestClassifier, GradientBoostingRegressor\n",
    "\n",
    "x_train, x_test,y_train, y_test = train_test_split(x,y,test_size=0.3,random_state=150)\n",
    "\n",
    "print 'Random Forest'\n",
    "# n_estimators = 60 is good\n",
    "random_forest = RandomForestRegressor(n_estimators=70,max_features=10)\n",
    "random_forest.fit(x_train,y_train)\n",
    "rf_pred = random_forest.predict(x_test)\n",
    "print 'RMSE: ' + str(np.sqrt(mean_squared_error(rf_pred,y_test)))\n",
    "print 'Accuracy of Random Forest is %s%%'%(random_forest.score(x_test,y_test)*100)\n",
    "print '='*60\n",
    "#75 Acc\n",
    "#830 MSE\n",
    "\n",
    "print 'LinearRegression'\n",
    "#print '-'*15 \n",
    "LR = LinearRegression()\n",
    "LR.fit(x_train,y_train)\n",
    "lr_pred = LR.predict(x_test)\n",
    "print 'RMSE: ' + str(np.sqrt(mean_squared_error(lr_pred,y_test)))\n",
    "print 'Accuracy of Linear Regression is %s%%'%(LR.score(x_test,y_test)*100)\n",
    "print '='*60\n",
    "#71 Acc \n",
    "#980 MSE\n"
   ]
  },
  {
   "cell_type": "code",
   "execution_count": null,
   "metadata": {},
   "outputs": [],
   "source": []
  },
  {
   "cell_type": "code",
   "execution_count": null,
   "metadata": {},
   "outputs": [],
   "source": []
  },
  {
   "cell_type": "code",
   "execution_count": null,
   "metadata": {},
   "outputs": [],
   "source": []
  },
  {
   "cell_type": "code",
   "execution_count": 12,
   "metadata": {},
   "outputs": [
    {
     "name": "stdout",
     "output_type": "stream",
     "text": [
      "Random Forest\n",
      "0.053468332615252044\n"
     ]
    }
   ],
   "source": [
    "# TRAINING\n",
    "\n",
    "x_train, x_test,y_train, y_test = train_test_split(x,y,test_size=0.3,random_state=100)\n",
    "print 'Random Forest'\n",
    "# n_estimators = 60 is good\n",
    "random_forest = RandomForestRegressor(n_estimators=60,max_features=5)\n",
    "random_forest.fit(x_train,y_train)\n",
    "print x_train[:1][0][27]"
   ]
  },
  {
   "cell_type": "code",
   "execution_count": 13,
   "metadata": {},
   "outputs": [
    {
     "name": "stdout",
     "output_type": "stream",
     "text": [
      "[[0.36686391 0.18534483 0.33236152 0.14117647 0.64948454 0.40990991\n",
      "  0.28985507 0.06658596 0.02597403 0.85730594 0.02677532 0.10108303\n",
      "  0.12269538 0.28420917 0.87029354 0.42889442 0.30434783 0.3125\n",
      "  0.45820433 0.32134293 0.39310345 0.25179856 0.4893617  0.24850299\n",
      "  0.42857143 0.09146716 0.03539959 0.06245803 1.         0.        ]]\n"
     ]
    }
   ],
   "source": [
    "x_train = (x_train - x_train.min(axis=0)) / (x_train.max(axis=0) - x_train.min(axis=0))\n",
    "x_test = (x_test - x_test.min(axis=0)) / (x_test.max(axis=0) - x_test.min(axis=0))\n",
    "# from sklearn.preprocessing import StandardScaler\n",
    "# scaler = StandardScaler()\n",
    "# x_train = (scaler.fit_transform(x_train) + 2)/4\n",
    "#print x_train[:1]\n",
    "print x_test[:1]"
   ]
  },
  {
   "cell_type": "code",
   "execution_count": 28,
   "metadata": {},
   "outputs": [
    {
     "name": "stdout",
     "output_type": "stream",
     "text": [
      "torch.Size([1683, 30])\n",
      "torch.Size([1683])\n"
     ]
    },
    {
     "ename": "AttributeError",
     "evalue": "'module' object has no attribute 'kaiming_normal_'",
     "output_type": "error",
     "traceback": [
      "\u001b[0;31m---------------------------------------------------------------------------\u001b[0m",
      "\u001b[0;31mAttributeError\u001b[0m                            Traceback (most recent call last)",
      "\u001b[0;32m<ipython-input-28-b9b39277783b>\u001b[0m in \u001b[0;36m<module>\u001b[0;34m()\u001b[0m\n\u001b[1;32m     17\u001b[0m \u001b[0;31m# Y = Variable(y_train_t) # actual value\u001b[0m\u001b[0;34m\u001b[0m\u001b[0;34m\u001b[0m\u001b[0m\n\u001b[1;32m     18\u001b[0m \u001b[0;31m# print X.type\u001b[0m\u001b[0;34m\u001b[0m\u001b[0;34m\u001b[0m\u001b[0m\n\u001b[0;32m---> 19\u001b[0;31m \u001b[0mtorch\u001b[0m\u001b[0;34m.\u001b[0m\u001b[0mnn\u001b[0m\u001b[0;34m.\u001b[0m\u001b[0minit\u001b[0m\u001b[0;34m.\u001b[0m\u001b[0mkaiming_normal_\u001b[0m\u001b[0;34m(\u001b[0m\u001b[0mx_train_t\u001b[0m\u001b[0;34m)\u001b[0m\u001b[0;34m\u001b[0m\u001b[0m\n\u001b[0m\u001b[1;32m     20\u001b[0m \u001b[0;34m\u001b[0m\u001b[0m\n\u001b[1;32m     21\u001b[0m \u001b[0;32mclass\u001b[0m \u001b[0mNet\u001b[0m\u001b[0;34m(\u001b[0m\u001b[0mtorch\u001b[0m\u001b[0;34m.\u001b[0m\u001b[0mnn\u001b[0m\u001b[0;34m.\u001b[0m\u001b[0mModule\u001b[0m\u001b[0;34m)\u001b[0m\u001b[0;34m:\u001b[0m\u001b[0;34m\u001b[0m\u001b[0m\n",
      "\u001b[0;31mAttributeError\u001b[0m: 'module' object has no attribute 'kaiming_normal_'"
     ]
    }
   ],
   "source": [
    "# Neural Net\n",
    "import torch\n",
    "import torch.nn.functional as F\n",
    "from torch.autograd import Variable\n",
    "torch.manual_seed(1)\n",
    "\n",
    "x_train_t = torch.from_numpy(x_train)\n",
    "y_train_t = torch.from_numpy(y_train)\n",
    "x_train_t = x_train_t.type(torch.FloatTensor)\n",
    "y_train_t = y_train_t.type(torch.FloatTensor)\n",
    "\n",
    "print x_train_t.size()\n",
    "print y_train_t.size()\n",
    "# #x_train, x_test,y_train, y_test = train_test_split(x,y,test_size=0.3,random_state=100)\n",
    "# # Only use of for the older version\n",
    "# X = Variable(x_train_t, requires_grad=True)\n",
    "# Y = Variable(y_train_t) # actual value\n",
    "# print X.type\n",
    "torch.nn.init.kaiming_normal_(x_train_t)\n",
    "\n",
    "class Net(torch.nn.Module):\n",
    "    def __init__(self, n_feature, n_hidden1,n_hidden2, n_output):\n",
    "        super(Net, self).__init__()\n",
    "        self.hidden1 = torch.nn.Linear(n_feature, n_hidden1)   # hidden layer\n",
    "        self.hidden2 = torch.nn.Linear(n_hidden1,n_hidden2)\n",
    "        self.output = torch.nn.Linear(n_hidden2, n_output)   # output layer\n",
    "\n",
    "    def forward(self, x):\n",
    "        x = F.relu(self.hidden1(x))      # activation function for hidden layer\n",
    "        x = F.relu(self.hidden2(x))\n",
    "        x = self.output(x)             # linear output\n",
    "        return x\n",
    "    \n",
    "net = Net(n_feature=30, n_hidden1=128,n_hidden2=64, n_output=1)\n",
    "optimizer = torch.optim.Adam(net.parameters(), lr=0.002)\n",
    "loss_func = torch.nn.MSELoss()\n",
    "total_epochs = 0\n"
   ]
  },
  {
   "cell_type": "code",
   "execution_count": 21,
   "metadata": {},
   "outputs": [
    {
     "data": {
      "image/png": "[encoded data removed]",
      "text/plain": [
       "<Figure size 432x288 with 1 Axes>"
      ]
     },
     "metadata": {},
     "output_type": "display_data"
    }
   ],
   "source": [
    "total_loss = []\n",
    "for t in range(1500):\n",
    "    prediction = net(x_train_t)     # input x and predict based on x\n",
    "    prediction = torch.squeeze(prediction)\n",
    "    \n",
    "    loss = loss_func(prediction, y_train_t)     # must be (1. nn output, 2. target)\n",
    "    total_loss.append(loss)\n",
    "    optimizer.zero_grad()   \n",
    "    # clear gradients for next train if any gradients left out in the buffer\n",
    "    \n",
    "    loss.backward()         # backpropagation, compute gradients\n",
    "    optimizer.step()        # apply gradients \n",
    "\n",
    "    if t % 50 == 0:\n",
    "        # plot and show learning process\n",
    "        plt.cla()\n",
    "        #plt.scatter(x_train_t.data.numpy(), y_train_t.data.numpy())\n",
    "        plt.plot(y_train_t.data.numpy(), prediction.data.numpy(), 'r-', lw=5)\n",
    "        plt.text(0.5, 0, 'Loss=%.4f' % loss.data.numpy(), fontdict={'size': 20, 'color':  'red'})"
   ]
  },
  {
   "cell_type": "code",
   "execution_count": 23,
   "metadata": {},
   "outputs": [],
   "source": [
    "prediction_1 = prediction.data.numpy()\n",
    "prediction_1 = prediction_1.astype(int)\n",
    "\n",
    "plt.figure(0)\n",
    "plt.plot(total_loss)\n",
    "plt.show()\n",
    "print prediction_1"
   ]
  },
  {
   "cell_type": "code",
   "execution_count": 27,
   "metadata": {},
   "outputs": [
    {
     "ename": "AttributeError",
     "evalue": "'Variable' object has no attribute 'ndim'",
     "output_type": "error",
     "traceback": [
      "\u001b[0;31m---------------------------------------------------------------------------\u001b[0m",
      "\u001b[0;31mAttributeError\u001b[0m                            Traceback (most recent call last)",
      "\u001b[0;32m<ipython-input-27-fdbac1e8a98e>\u001b[0m in \u001b[0;36m<module>\u001b[0;34m()\u001b[0m\n\u001b[1;32m      9\u001b[0m \u001b[0mpredictions_val\u001b[0m \u001b[0;34m=\u001b[0m \u001b[0mnet\u001b[0m\u001b[0;34m(\u001b[0m\u001b[0mx_val_t\u001b[0m\u001b[0;34m)\u001b[0m\u001b[0;34m\u001b[0m\u001b[0m\n\u001b[1;32m     10\u001b[0m \u001b[0mloss_val\u001b[0m \u001b[0;34m=\u001b[0m \u001b[0mloss_func\u001b[0m\u001b[0;34m(\u001b[0m\u001b[0mpredictions_val\u001b[0m\u001b[0;34m,\u001b[0m \u001b[0my_val_t\u001b[0m\u001b[0;34m)\u001b[0m\u001b[0;34m\u001b[0m\u001b[0m\n\u001b[0;32m---> 11\u001b[0;31m \u001b[0mplt\u001b[0m\u001b[0;34m.\u001b[0m\u001b[0mplot\u001b[0m\u001b[0;34m(\u001b[0m\u001b[0mloss_val\u001b[0m\u001b[0;34m)\u001b[0m\u001b[0;34m\u001b[0m\u001b[0m\n\u001b[0m\u001b[1;32m     12\u001b[0m \u001b[0mplt\u001b[0m\u001b[0;34m.\u001b[0m\u001b[0mshow\u001b[0m\u001b[0;34m(\u001b[0m\u001b[0;34m)\u001b[0m\u001b[0;34m\u001b[0m\u001b[0m\n",
      "\u001b[0;32m/usr/local/lib/python2.7/dist-packages/matplotlib/pyplot.pyc\u001b[0m in \u001b[0;36mplot\u001b[0;34m(*args, **kwargs)\u001b[0m\n\u001b[1;32m   3356\u001b[0m                       mplDeprecation)\n\u001b[1;32m   3357\u001b[0m     \u001b[0;32mtry\u001b[0m\u001b[0;34m:\u001b[0m\u001b[0;34m\u001b[0m\u001b[0m\n\u001b[0;32m-> 3358\u001b[0;31m         \u001b[0mret\u001b[0m \u001b[0;34m=\u001b[0m \u001b[0max\u001b[0m\u001b[0;34m.\u001b[0m\u001b[0mplot\u001b[0m\u001b[0;34m(\u001b[0m\u001b[0;34m*\u001b[0m\u001b[0margs\u001b[0m\u001b[0;34m,\u001b[0m \u001b[0;34m**\u001b[0m\u001b[0mkwargs\u001b[0m\u001b[0;34m)\u001b[0m\u001b[0;34m\u001b[0m\u001b[0m\n\u001b[0m\u001b[1;32m   3359\u001b[0m     \u001b[0;32mfinally\u001b[0m\u001b[0;34m:\u001b[0m\u001b[0;34m\u001b[0m\u001b[0m\n\u001b[1;32m   3360\u001b[0m         \u001b[0max\u001b[0m\u001b[0;34m.\u001b[0m\u001b[0m_hold\u001b[0m \u001b[0;34m=\u001b[0m \u001b[0mwashold\u001b[0m\u001b[0;34m\u001b[0m\u001b[0m\n",
      "\u001b[0;32m/usr/local/lib/python2.7/dist-packages/matplotlib/__init__.pyc\u001b[0m in \u001b[0;36minner\u001b[0;34m(ax, *args, **kwargs)\u001b[0m\n\u001b[1;32m   1853\u001b[0m                         \u001b[0;34m\"the Matplotlib list!)\"\u001b[0m \u001b[0;34m%\u001b[0m \u001b[0;34m(\u001b[0m\u001b[0mlabel_namer\u001b[0m\u001b[0;34m,\u001b[0m \u001b[0mfunc\u001b[0m\u001b[0;34m.\u001b[0m\u001b[0m__name__\u001b[0m\u001b[0;34m)\u001b[0m\u001b[0;34m,\u001b[0m\u001b[0;34m\u001b[0m\u001b[0m\n\u001b[1;32m   1854\u001b[0m                         RuntimeWarning, stacklevel=2)\n\u001b[0;32m-> 1855\u001b[0;31m             \u001b[0;32mreturn\u001b[0m \u001b[0mfunc\u001b[0m\u001b[0;34m(\u001b[0m\u001b[0max\u001b[0m\u001b[0;34m,\u001b[0m \u001b[0;34m*\u001b[0m\u001b[0margs\u001b[0m\u001b[0;34m,\u001b[0m \u001b[0;34m**\u001b[0m\u001b[0mkwargs\u001b[0m\u001b[0;34m)\u001b[0m\u001b[0;34m\u001b[0m\u001b[0m\n\u001b[0m\u001b[1;32m   1856\u001b[0m \u001b[0;34m\u001b[0m\u001b[0m\n\u001b[1;32m   1857\u001b[0m         inner.__doc__ = _add_data_doc(inner.__doc__,\n",
      "\u001b[0;32m/usr/local/lib/python2.7/dist-packages/matplotlib/axes/_axes.pyc\u001b[0m in \u001b[0;36mplot\u001b[0;34m(self, *args, **kwargs)\u001b[0m\n\u001b[1;32m   1525\u001b[0m         \u001b[0mkwargs\u001b[0m \u001b[0;34m=\u001b[0m \u001b[0mcbook\u001b[0m\u001b[0;34m.\u001b[0m\u001b[0mnormalize_kwargs\u001b[0m\u001b[0;34m(\u001b[0m\u001b[0mkwargs\u001b[0m\u001b[0;34m,\u001b[0m \u001b[0m_alias_map\u001b[0m\u001b[0;34m)\u001b[0m\u001b[0;34m\u001b[0m\u001b[0m\n\u001b[1;32m   1526\u001b[0m \u001b[0;34m\u001b[0m\u001b[0m\n\u001b[0;32m-> 1527\u001b[0;31m         \u001b[0;32mfor\u001b[0m \u001b[0mline\u001b[0m \u001b[0;32min\u001b[0m \u001b[0mself\u001b[0m\u001b[0;34m.\u001b[0m\u001b[0m_get_lines\u001b[0m\u001b[0;34m(\u001b[0m\u001b[0;34m*\u001b[0m\u001b[0margs\u001b[0m\u001b[0;34m,\u001b[0m \u001b[0;34m**\u001b[0m\u001b[0mkwargs\u001b[0m\u001b[0;34m)\u001b[0m\u001b[0;34m:\u001b[0m\u001b[0;34m\u001b[0m\u001b[0m\n\u001b[0m\u001b[1;32m   1528\u001b[0m             \u001b[0mself\u001b[0m\u001b[0;34m.\u001b[0m\u001b[0madd_line\u001b[0m\u001b[0;34m(\u001b[0m\u001b[0mline\u001b[0m\u001b[0;34m)\u001b[0m\u001b[0;34m\u001b[0m\u001b[0m\n\u001b[1;32m   1529\u001b[0m             \u001b[0mlines\u001b[0m\u001b[0;34m.\u001b[0m\u001b[0mappend\u001b[0m\u001b[0;34m(\u001b[0m\u001b[0mline\u001b[0m\u001b[0;34m)\u001b[0m\u001b[0;34m\u001b[0m\u001b[0m\n",
      "\u001b[0;32m/usr/local/lib/python2.7/dist-packages/matplotlib/axes/_base.pyc\u001b[0m in \u001b[0;36m_grab_next_args\u001b[0;34m(self, *args, **kwargs)\u001b[0m\n\u001b[1;32m    404\u001b[0m                 \u001b[0mthis\u001b[0m \u001b[0;34m+=\u001b[0m \u001b[0margs\u001b[0m\u001b[0;34m[\u001b[0m\u001b[0;36m0\u001b[0m\u001b[0;34m]\u001b[0m\u001b[0;34m,\u001b[0m\u001b[0;34m\u001b[0m\u001b[0m\n\u001b[1;32m    405\u001b[0m                 \u001b[0margs\u001b[0m \u001b[0;34m=\u001b[0m \u001b[0margs\u001b[0m\u001b[0;34m[\u001b[0m\u001b[0;36m1\u001b[0m\u001b[0;34m:\u001b[0m\u001b[0;34m]\u001b[0m\u001b[0;34m\u001b[0m\u001b[0m\n\u001b[0;32m--> 406\u001b[0;31m             \u001b[0;32mfor\u001b[0m \u001b[0mseg\u001b[0m \u001b[0;32min\u001b[0m \u001b[0mself\u001b[0m\u001b[0;34m.\u001b[0m\u001b[0m_plot_args\u001b[0m\u001b[0;34m(\u001b[0m\u001b[0mthis\u001b[0m\u001b[0;34m,\u001b[0m \u001b[0mkwargs\u001b[0m\u001b[0;34m)\u001b[0m\u001b[0;34m:\u001b[0m\u001b[0;34m\u001b[0m\u001b[0m\n\u001b[0m\u001b[1;32m    407\u001b[0m                 \u001b[0;32myield\u001b[0m \u001b[0mseg\u001b[0m\u001b[0;34m\u001b[0m\u001b[0m\n\u001b[1;32m    408\u001b[0m \u001b[0;34m\u001b[0m\u001b[0m\n",
      "\u001b[0;32m/usr/local/lib/python2.7/dist-packages/matplotlib/axes/_base.pyc\u001b[0m in \u001b[0;36m_plot_args\u001b[0;34m(self, tup, kwargs)\u001b[0m\n\u001b[1;32m    381\u001b[0m             \u001b[0mx\u001b[0m\u001b[0;34m,\u001b[0m \u001b[0my\u001b[0m \u001b[0;34m=\u001b[0m \u001b[0mindex_of\u001b[0m\u001b[0;34m(\u001b[0m\u001b[0mtup\u001b[0m\u001b[0;34m[\u001b[0m\u001b[0;34m-\u001b[0m\u001b[0;36m1\u001b[0m\u001b[0;34m]\u001b[0m\u001b[0;34m)\u001b[0m\u001b[0;34m\u001b[0m\u001b[0m\n\u001b[1;32m    382\u001b[0m \u001b[0;34m\u001b[0m\u001b[0m\n\u001b[0;32m--> 383\u001b[0;31m         \u001b[0mx\u001b[0m\u001b[0;34m,\u001b[0m \u001b[0my\u001b[0m \u001b[0;34m=\u001b[0m \u001b[0mself\u001b[0m\u001b[0;34m.\u001b[0m\u001b[0m_xy_from_xy\u001b[0m\u001b[0;34m(\u001b[0m\u001b[0mx\u001b[0m\u001b[0;34m,\u001b[0m \u001b[0my\u001b[0m\u001b[0;34m)\u001b[0m\u001b[0;34m\u001b[0m\u001b[0m\n\u001b[0m\u001b[1;32m    384\u001b[0m \u001b[0;34m\u001b[0m\u001b[0m\n\u001b[1;32m    385\u001b[0m         \u001b[0;32mif\u001b[0m \u001b[0mself\u001b[0m\u001b[0;34m.\u001b[0m\u001b[0mcommand\u001b[0m \u001b[0;34m==\u001b[0m \u001b[0;34m'plot'\u001b[0m\u001b[0;34m:\u001b[0m\u001b[0;34m\u001b[0m\u001b[0m\n",
      "\u001b[0;32m/usr/local/lib/python2.7/dist-packages/matplotlib/axes/_base.pyc\u001b[0m in \u001b[0;36m_xy_from_xy\u001b[0;34m(self, x, y)\u001b[0m\n\u001b[1;32m    241\u001b[0m             raise ValueError(\"x and y must have same first dimension, but \"\n\u001b[1;32m    242\u001b[0m                              \"have shapes {} and {}\".format(x.shape, y.shape))\n\u001b[0;32m--> 243\u001b[0;31m         \u001b[0;32mif\u001b[0m \u001b[0mx\u001b[0m\u001b[0;34m.\u001b[0m\u001b[0mndim\u001b[0m \u001b[0;34m>\u001b[0m \u001b[0;36m2\u001b[0m \u001b[0;32mor\u001b[0m \u001b[0my\u001b[0m\u001b[0;34m.\u001b[0m\u001b[0mndim\u001b[0m \u001b[0;34m>\u001b[0m \u001b[0;36m2\u001b[0m\u001b[0;34m:\u001b[0m\u001b[0;34m\u001b[0m\u001b[0m\n\u001b[0m\u001b[1;32m    244\u001b[0m             raise ValueError(\"x and y can be no greater than 2-D, but have \"\n\u001b[1;32m    245\u001b[0m                              \"shapes {} and {}\".format(x.shape, y.shape))\n",
      "\u001b[0;32m/usr/local/lib/python2.7/dist-packages/torch/autograd/variable.pyc\u001b[0m in \u001b[0;36m__getattr__\u001b[0;34m(self, name)\u001b[0m\n\u001b[1;32m     65\u001b[0m         \u001b[0;32mif\u001b[0m \u001b[0mname\u001b[0m \u001b[0;32min\u001b[0m \u001b[0mself\u001b[0m\u001b[0;34m.\u001b[0m\u001b[0m_fallthrough_methods\u001b[0m\u001b[0;34m:\u001b[0m\u001b[0;34m\u001b[0m\u001b[0m\n\u001b[1;32m     66\u001b[0m             \u001b[0;32mreturn\u001b[0m \u001b[0mgetattr\u001b[0m\u001b[0;34m(\u001b[0m\u001b[0mself\u001b[0m\u001b[0;34m.\u001b[0m\u001b[0mdata\u001b[0m\u001b[0;34m,\u001b[0m \u001b[0mname\u001b[0m\u001b[0;34m)\u001b[0m\u001b[0;34m\u001b[0m\u001b[0m\n\u001b[0;32m---> 67\u001b[0;31m         \u001b[0;32mreturn\u001b[0m \u001b[0mobject\u001b[0m\u001b[0;34m.\u001b[0m\u001b[0m__getattribute__\u001b[0m\u001b[0;34m(\u001b[0m\u001b[0mself\u001b[0m\u001b[0;34m,\u001b[0m \u001b[0mname\u001b[0m\u001b[0;34m)\u001b[0m\u001b[0;34m\u001b[0m\u001b[0m\n\u001b[0m\u001b[1;32m     68\u001b[0m \u001b[0;34m\u001b[0m\u001b[0m\n\u001b[1;32m     69\u001b[0m     \u001b[0;32mdef\u001b[0m \u001b[0m__getitem__\u001b[0m\u001b[0;34m(\u001b[0m\u001b[0mself\u001b[0m\u001b[0;34m,\u001b[0m \u001b[0mkey\u001b[0m\u001b[0;34m)\u001b[0m\u001b[0;34m:\u001b[0m\u001b[0;34m\u001b[0m\u001b[0m\n",
      "\u001b[0;31mAttributeError\u001b[0m: 'Variable' object has no attribute 'ndim'"
     ]
    },
    {
     "data": {
      "image/png": "[encoded data removed]",
      "text/plain": [
       "<Figure size 432x288 with 1 Axes>"
      ]
     },
     "metadata": {},
     "output_type": "display_data"
    }
   ],
   "source": [
    "# VALIDATION \n",
    "x_val_t = torch.from_numpy(x_test)\n",
    "y_val_t = torch.from_numpy(y_test)\n",
    "x_val_t = x_val_t.type(torch.FloatTensor)\n",
    "y_val_t = y_val_t.type(torch.FloatTensor)\n",
    "\n",
    "\n",
    "predictions_val = net(x_val_t)\n",
    "loss_val = loss_func(predictions_val, y_val_t)    \n",
    "plt.plot(loss_val)\n",
    "plt.show()"
   ]
  },
  {
   "cell_type": "code",
   "execution_count": null,
   "metadata": {},
   "outputs": [],
   "source": [
    "\n"
   ]
  },
  {
   "cell_type": "code",
   "execution_count": 16,
   "metadata": {},
   "outputs": [
    {
     "name": "stdout",
     "output_type": "stream",
     "text": [
      "(3080, 38)\n"
     ]
    }
   ],
   "source": [
    "e = pd.read_csv('../data/test_values.csv')\n",
    "\n",
    "e.yr = pd.Categorical(e.yr)\n",
    "e['year'] = e.yr.cat.codes\n",
    "\n",
    "e.area__rucc = pd.Categorical(e.area__rucc)\n",
    "e['area_region'] = e.area__rucc.cat.codes\n",
    "\n",
    "e.econ__economic_typology = pd.Categorical(e.econ__economic_typology)\n",
    "e['economic_typology'] = e.econ__economic_typology.cat.codes\n",
    "\n",
    "e.area__urban_influence = pd.Categorical(e.area__urban_influence)\n",
    "e['urban_influence'] = e.area__urban_influence.cat.codes\n",
    "\n",
    "print e.shape\n",
    "#print e.isnull().sum()\n",
    "\n",
    "# STRONGLY CORRELATED\n",
    "#econ__pct_civilian_labor\n",
    "#demo__pct_adults_bachelors_or_higher\n",
    "#demo__pct_adults_with_some_college\n",
    "\n",
    "e = e.drop(['area__rucc','area__urban_influence','econ__economic_typology','yr','health__homicides_per_100k'],axis=1) \n",
    "#e.isnull().sum()\n",
    "# #print d2.isnull().sum()"
   ]
  },
  {
   "cell_type": "code",
   "execution_count": 17,
   "metadata": {},
   "outputs": [
    {
     "name": "stderr",
     "output_type": "stream",
     "text": [
      "/usr/local/lib/python2.7/dist-packages/ipykernel_launcher.py:2: SettingWithCopyWarning: \n",
      "A value is trying to be set on a copy of a slice from a DataFrame\n",
      "\n",
      "See the caveats in the documentation: http://pandas.pydata.org/pandas-docs/stable/indexing.html#indexing-view-versus-copy\n",
      "  \n"
     ]
    },
    {
     "data": {
      "text/html": [
       "<div>\n",
       "<style scoped>\n",
       "    .dataframe tbody tr th:only-of-type {\n",
       "        vertical-align: middle;\n",
       "    }\n",
       "\n",
       "    .dataframe tbody tr th {\n",
       "        vertical-align: top;\n",
       "    }\n",
       "\n",
       "    .dataframe thead th {\n",
       "        text-align: right;\n",
       "    }\n",
       "</style>\n",
       "<table border=\"1\" class=\"dataframe\">\n",
       "  <thead>\n",
       "    <tr style=\"text-align: right;\">\n",
       "      <th></th>\n",
       "      <th>row_id</th>\n",
       "      <th>econ__pct_civilian_labor</th>\n",
       "      <th>econ__pct_unemployment</th>\n",
       "      <th>econ__pct_uninsured_adults</th>\n",
       "      <th>econ__pct_uninsured_children</th>\n",
       "      <th>demo__pct_female</th>\n",
       "      <th>demo__pct_below_18_years_of_age</th>\n",
       "      <th>demo__pct_aged_65_years_and_older</th>\n",
       "      <th>demo__pct_hispanic</th>\n",
       "      <th>demo__pct_non_hispanic_african_american</th>\n",
       "      <th>...</th>\n",
       "      <th>health__pct_excessive_drinking</th>\n",
       "      <th>health__pct_physical_inacticity</th>\n",
       "      <th>health__air_pollution_particulate_matter</th>\n",
       "      <th>health__motor_vehicle_crash_deaths_per_100k</th>\n",
       "      <th>health__pop_per_dentist</th>\n",
       "      <th>health__pop_per_primary_care_physician</th>\n",
       "      <th>year</th>\n",
       "      <th>area_region</th>\n",
       "      <th>economic_typology</th>\n",
       "      <th>urban_influence</th>\n",
       "    </tr>\n",
       "  </thead>\n",
       "  <tbody>\n",
       "    <tr>\n",
       "      <th>0</th>\n",
       "      <td>2</td>\n",
       "      <td>0.469</td>\n",
       "      <td>0.07</td>\n",
       "      <td>0.211</td>\n",
       "      <td>0.156</td>\n",
       "      <td>0.499</td>\n",
       "      <td>0.184</td>\n",
       "      <td>0.236</td>\n",
       "      <td>0.114</td>\n",
       "      <td>0.006</td>\n",
       "      <td>...</td>\n",
       "      <td>0.217</td>\n",
       "      <td>0.162</td>\n",
       "      <td>0.5</td>\n",
       "      <td>0.103375</td>\n",
       "      <td>0.048184</td>\n",
       "      <td>0.059178</td>\n",
       "      <td>0</td>\n",
       "      <td>7</td>\n",
       "      <td>5</td>\n",
       "      <td>1</td>\n",
       "    </tr>\n",
       "  </tbody>\n",
       "</table>\n",
       "<p>1 rows × 33 columns</p>\n",
       "</div>"
      ],
      "text/plain": [
       "   row_id  econ__pct_civilian_labor  econ__pct_unemployment  \\\n",
       "0       2                     0.469                    0.07   \n",
       "\n",
       "   econ__pct_uninsured_adults  econ__pct_uninsured_children  demo__pct_female  \\\n",
       "0                       0.211                         0.156             0.499   \n",
       "\n",
       "   demo__pct_below_18_years_of_age  demo__pct_aged_65_years_and_older  \\\n",
       "0                            0.184                              0.236   \n",
       "\n",
       "   demo__pct_hispanic  demo__pct_non_hispanic_african_american  \\\n",
       "0               0.114                                    0.006   \n",
       "\n",
       "        ...         health__pct_excessive_drinking  \\\n",
       "0       ...                                  0.217   \n",
       "\n",
       "   health__pct_physical_inacticity  health__air_pollution_particulate_matter  \\\n",
       "0                            0.162                                       0.5   \n",
       "\n",
       "   health__motor_vehicle_crash_deaths_per_100k  health__pop_per_dentist  \\\n",
       "0                                     0.103375                 0.048184   \n",
       "\n",
       "   health__pop_per_primary_care_physician  year  area_region  \\\n",
       "0                                0.059178     0            7   \n",
       "\n",
       "   economic_typology  urban_influence  \n",
       "0                  5                1  \n",
       "\n",
       "[1 rows x 33 columns]"
      ]
     },
     "execution_count": 17,
     "metadata": {},
     "output_type": "execute_result"
    }
   ],
   "source": [
    "min_max_scale(e['demo__birth_rate_per_1k'])\n",
    "min_max_scale(e['demo__death_rate_per_1k'])\n",
    "min_max_scale(e['health__air_pollution_particulate_matter'])\n",
    "min_max_scale(e['health__motor_vehicle_crash_deaths_per_100k'])\n",
    "min_max_scale(e['health__pop_per_dentist'])\n",
    "min_max_scale(e['health__pop_per_primary_care_physician'])\n",
    "e.head(1)"
   ]
  },
  {
   "cell_type": "code",
   "execution_count": 18,
   "metadata": {},
   "outputs": [],
   "source": [
    "# # ONE HOT ENCODING\n",
    "temp = pd.get_dummies(e['year'],prefix=['year']) \n",
    "e = e.join(temp,how='outer')\n",
    "\n",
    "# temp = pd.get_dummies(e['area_region'],prefix=['area_region']) \n",
    "# e = e.join(temp,how='outer')\n",
    "\n",
    "# temp = pd.get_dummies(e['economic_typology'],prefix=['economic_typology']) \n",
    "# e = e.join(temp,how='outer')\n",
    "\n",
    "# temp = pd.get_dummies(e['urban_influence'],prefix=['urban_influence']) \n",
    "# e = e.join(temp,how='outer')\n",
    "\n",
    "\n",
    "\n",
    "e = e.drop(['urban_influence','area_region','economic_typology','year'],axis=1)"
   ]
  },
  {
   "cell_type": "code",
   "execution_count": 19,
   "metadata": {
    "scrolled": true
   },
   "outputs": [
    {
     "data": {
      "text/html": [
       "<div>\n",
       "<style scoped>\n",
       "    .dataframe tbody tr th:only-of-type {\n",
       "        vertical-align: middle;\n",
       "    }\n",
       "\n",
       "    .dataframe tbody tr th {\n",
       "        vertical-align: top;\n",
       "    }\n",
       "\n",
       "    .dataframe thead th {\n",
       "        text-align: right;\n",
       "    }\n",
       "</style>\n",
       "<table border=\"1\" class=\"dataframe\">\n",
       "  <thead>\n",
       "    <tr style=\"text-align: right;\">\n",
       "      <th></th>\n",
       "      <th>econ__pct_civilian_labor</th>\n",
       "      <th>econ__pct_unemployment</th>\n",
       "      <th>econ__pct_uninsured_adults</th>\n",
       "      <th>econ__pct_uninsured_children</th>\n",
       "      <th>demo__pct_female</th>\n",
       "      <th>demo__pct_below_18_years_of_age</th>\n",
       "      <th>demo__pct_aged_65_years_and_older</th>\n",
       "      <th>demo__pct_hispanic</th>\n",
       "      <th>demo__pct_non_hispanic_african_american</th>\n",
       "      <th>demo__pct_non_hispanic_white</th>\n",
       "      <th>...</th>\n",
       "      <th>health__pct_diabetes</th>\n",
       "      <th>health__pct_low_birthweight</th>\n",
       "      <th>health__pct_excessive_drinking</th>\n",
       "      <th>health__pct_physical_inacticity</th>\n",
       "      <th>health__air_pollution_particulate_matter</th>\n",
       "      <th>health__motor_vehicle_crash_deaths_per_100k</th>\n",
       "      <th>health__pop_per_dentist</th>\n",
       "      <th>health__pop_per_primary_care_physician</th>\n",
       "      <th>['year']_0</th>\n",
       "      <th>['year']_1</th>\n",
       "    </tr>\n",
       "  </thead>\n",
       "  <tbody>\n",
       "    <tr>\n",
       "      <th>0</th>\n",
       "      <td>0.469</td>\n",
       "      <td>0.07</td>\n",
       "      <td>0.211</td>\n",
       "      <td>0.156</td>\n",
       "      <td>0.499</td>\n",
       "      <td>0.184</td>\n",
       "      <td>0.236</td>\n",
       "      <td>0.114</td>\n",
       "      <td>0.006</td>\n",
       "      <td>0.822</td>\n",
       "      <td>...</td>\n",
       "      <td>0.078</td>\n",
       "      <td>0.079</td>\n",
       "      <td>0.217</td>\n",
       "      <td>0.162</td>\n",
       "      <td>0.5</td>\n",
       "      <td>0.103375</td>\n",
       "      <td>0.048184</td>\n",
       "      <td>0.059178</td>\n",
       "      <td>1</td>\n",
       "      <td>0</td>\n",
       "    </tr>\n",
       "  </tbody>\n",
       "</table>\n",
       "<p>1 rows × 30 columns</p>\n",
       "</div>"
      ],
      "text/plain": [
       "   econ__pct_civilian_labor  econ__pct_unemployment  \\\n",
       "0                     0.469                    0.07   \n",
       "\n",
       "   econ__pct_uninsured_adults  econ__pct_uninsured_children  demo__pct_female  \\\n",
       "0                       0.211                         0.156             0.499   \n",
       "\n",
       "   demo__pct_below_18_years_of_age  demo__pct_aged_65_years_and_older  \\\n",
       "0                            0.184                              0.236   \n",
       "\n",
       "   demo__pct_hispanic  demo__pct_non_hispanic_african_american  \\\n",
       "0               0.114                                    0.006   \n",
       "\n",
       "   demo__pct_non_hispanic_white     ...      health__pct_diabetes  \\\n",
       "0                         0.822     ...                     0.078   \n",
       "\n",
       "   health__pct_low_birthweight  health__pct_excessive_drinking  \\\n",
       "0                        0.079                           0.217   \n",
       "\n",
       "   health__pct_physical_inacticity  health__air_pollution_particulate_matter  \\\n",
       "0                            0.162                                       0.5   \n",
       "\n",
       "   health__motor_vehicle_crash_deaths_per_100k  health__pop_per_dentist  \\\n",
       "0                                     0.103375                 0.048184   \n",
       "\n",
       "   health__pop_per_primary_care_physician  ['year']_0  ['year']_1  \n",
       "0                                0.059178           1           0  \n",
       "\n",
       "[1 rows x 30 columns]"
      ]
     },
     "execution_count": 19,
     "metadata": {},
     "output_type": "execute_result"
    }
   ],
   "source": [
    "\n",
    "e['health__pct_excessive_drinking'].fillna(e['health__pct_excessive_drinking'].mean(),inplace=True) \n",
    "e['econ__pct_uninsured_adults'].fillna(e['econ__pct_uninsured_adults'].mean(),inplace=True) \n",
    "e['econ__pct_uninsured_children'].fillna(e['econ__pct_uninsured_children'].mean(),inplace=True) \n",
    "e['demo__pct_female'].fillna(e['demo__pct_female'].mean(),inplace=True) \n",
    "e['demo__pct_below_18_years_of_age'].fillna(e['demo__pct_below_18_years_of_age'].mean(),inplace=True) \n",
    "e['demo__pct_aged_65_years_and_older'].fillna(e['demo__pct_aged_65_years_and_older'].mean(),inplace=True) \n",
    "e['demo__pct_hispanic'].fillna(e['demo__pct_hispanic'].mean(),inplace=True) \n",
    "e['demo__pct_non_hispanic_african_american'].fillna(e['demo__pct_non_hispanic_african_american'].mean(),inplace=True) \n",
    "e['demo__pct_non_hispanic_white'].fillna(e['demo__pct_non_hispanic_white'].mean(),inplace=True) \n",
    "e['demo__pct_american_indian_or_alaskan_native'].fillna(e['demo__pct_american_indian_or_alaskan_native'].mean(),inplace=True) \n",
    "e['demo__pct_asian'].fillna(e['demo__pct_asian'].mean(),inplace=True) \n",
    "e['health__pct_adult_obesity'].fillna(e['health__pct_adult_obesity'].mean(),inplace=True) \n",
    "e['health__pct_adult_smoking'].fillna(e['health__pct_adult_smoking'].mean(),inplace=True) \n",
    "e['health__pct_diabetes'].fillna(e['health__pct_diabetes'].mean(),inplace=True) \n",
    "e['health__pct_low_birthweight'].fillna(e['health__pct_low_birthweight'].mean(),inplace=True) \n",
    "e['health__pct_physical_inacticity'].fillna(e['health__pct_physical_inacticity'].mean(),inplace=True) \n",
    "e['health__air_pollution_particulate_matter'].fillna(e['health__air_pollution_particulate_matter'].mean(),inplace=True) \n",
    "#e['health__homicides_per_100k'].fillna(e2['health__homicides_per_100k'].mean(),inplace=True) \n",
    "e['health__motor_vehicle_crash_deaths_per_100k'].fillna(e['health__motor_vehicle_crash_deaths_per_100k'].mean(),inplace=True) \n",
    "e['health__pop_per_dentist'].fillna(e['health__pop_per_dentist'].mean(),inplace=True) \n",
    "e['health__pop_per_primary_care_physician'].fillna(e['health__pop_per_primary_care_physician'].mean(),inplace=True)\n",
    "# e2 = e2[np.isfinite(e2['health__pct_adult_smoking'])] \n",
    "# e2 = e2[np.isfinite(e2['health__motor_vehicle_crash_deaths_per_100k'])] \n",
    "# e2 = e2[np.isfinite(e2['health__pop_per_dentist'])] \n",
    "# e2 = e2[np.isfinite(e2['health__pop_per_primary_care_physician'])]\n",
    "# e2 = e2[np.isfinite(e2['health__air_pollution_particulate_matter'])]\n",
    "# e2 = e2[np.isfinite(e2['health__pct_low_birthweight'])]\n",
    "\n",
    "e3 = e\n",
    "#print e3.shape\n",
    "\n",
    "e = e.drop(['row_id'],axis=1)\n",
    "# # print d2.shape\n",
    "# # print target.shape\n",
    "# # print target.head(5)\n",
    "# # print target.isnull().sum()\n",
    "\n",
    "\n",
    "# print e2.shape\n",
    "# print e3['row_id'].shape\n",
    "\n",
    "e.head(1)\n",
    "#print list(final_pd.columns.values)\n",
    "#print final_pd"
   ]
  },
  {
   "cell_type": "code",
   "execution_count": 20,
   "metadata": {},
   "outputs": [
    {
     "data": {
      "text/html": [
       "<div>\n",
       "<style scoped>\n",
       "    .dataframe tbody tr th:only-of-type {\n",
       "        vertical-align: middle;\n",
       "    }\n",
       "\n",
       "    .dataframe tbody tr th {\n",
       "        vertical-align: top;\n",
       "    }\n",
       "\n",
       "    .dataframe thead th {\n",
       "        text-align: right;\n",
       "    }\n",
       "</style>\n",
       "<table border=\"1\" class=\"dataframe\">\n",
       "  <thead>\n",
       "    <tr style=\"text-align: right;\">\n",
       "      <th></th>\n",
       "      <th>0</th>\n",
       "      <th>1</th>\n",
       "      <th>2</th>\n",
       "      <th>3</th>\n",
       "      <th>4</th>\n",
       "      <th>5</th>\n",
       "      <th>6</th>\n",
       "      <th>7</th>\n",
       "      <th>8</th>\n",
       "      <th>9</th>\n",
       "      <th>...</th>\n",
       "      <th>20</th>\n",
       "      <th>21</th>\n",
       "      <th>22</th>\n",
       "      <th>23</th>\n",
       "      <th>24</th>\n",
       "      <th>25</th>\n",
       "      <th>26</th>\n",
       "      <th>27</th>\n",
       "      <th>28</th>\n",
       "      <th>29</th>\n",
       "    </tr>\n",
       "  </thead>\n",
       "  <tbody>\n",
       "    <tr>\n",
       "      <th>0</th>\n",
       "      <td>0.351418</td>\n",
       "      <td>0.308036</td>\n",
       "      <td>0.362525</td>\n",
       "      <td>0.471875</td>\n",
       "      <td>0.738938</td>\n",
       "      <td>0.288344</td>\n",
       "      <td>0.434874</td>\n",
       "      <td>0.118135</td>\n",
       "      <td>0.007371</td>\n",
       "      <td>0.818557</td>\n",
       "      <td>...</td>\n",
       "      <td>0.241573</td>\n",
       "      <td>0.341772</td>\n",
       "      <td>0.357009</td>\n",
       "      <td>0.203911</td>\n",
       "      <td>0.5</td>\n",
       "      <td>0.103375</td>\n",
       "      <td>0.048184</td>\n",
       "      <td>0.059178</td>\n",
       "      <td>1.0</td>\n",
       "      <td>0.0</td>\n",
       "    </tr>\n",
       "  </tbody>\n",
       "</table>\n",
       "<p>1 rows × 30 columns</p>\n",
       "</div>"
      ],
      "text/plain": [
       "         0         1         2         3         4         5         6   \\\n",
       "0  0.351418  0.308036  0.362525  0.471875  0.738938  0.288344  0.434874   \n",
       "\n",
       "         7         8         9  ...         20        21        22        23  \\\n",
       "0  0.118135  0.007371  0.818557 ...   0.241573  0.341772  0.357009  0.203911   \n",
       "\n",
       "    24        25        26        27   28   29  \n",
       "0  0.5  0.103375  0.048184  0.059178  1.0  0.0  \n",
       "\n",
       "[1 rows x 30 columns]"
      ]
     },
     "execution_count": 20,
     "metadata": {},
     "output_type": "execute_result"
    }
   ],
   "source": [
    "# Normalized Input\n",
    "# from sklearn import preprocessing\n",
    "\n",
    "x = e.values #returns a numpy array\n",
    "# min_max_scaler = preprocessing.MinMaxScaler()\n",
    "# x_scaled = min_max_scaler.fit_transform(x)\n",
    "x_scaled = (x - x.min(axis=0)) / (x.max(axis=0) - x.min(axis=0))\n",
    "e_norm_1 = pd.DataFrame(x_scaled)\n",
    "e_norm_1.head(1)"
   ]
  },
  {
   "cell_type": "code",
   "execution_count": 735,
   "metadata": {},
   "outputs": [],
   "source": [
    "#e.isnull().sum()\n",
    "#e.max()"
   ]
  },
  {
   "cell_type": "code",
   "execution_count": 736,
   "metadata": {},
   "outputs": [
    {
     "name": "stdout",
     "output_type": "stream",
     "text": [
      "(3080, 30)\n",
      "torch.Size([2405, 30])\n",
      "[354 365 390 ... 401 439 469]\n",
      "(3080,)\n"
     ]
    }
   ],
   "source": [
    "# PREDICTIONS Neural Network\n",
    "print e_norm_1.shape\n",
    "print x_train_t.shape\n",
    "e_norm_1 = e_norm_1.values\n",
    "e_norm_1 = torch.from_numpy(e_norm_1)\n",
    "e_norm_1 = e_norm_1.type(torch.FloatTensor)\n",
    "# print e_norm_1.size()\n",
    "predictions_1 = net(e_norm_1)\n",
    "predictions_1 = torch.squeeze(predictions_1)\n",
    "predictions = predictions_1.data.numpy()\n",
    "predictions = predictions.astype(int)\n",
    "print predictions\n",
    "print predictions.shape"
   ]
  },
  {
   "cell_type": "code",
   "execution_count": 21,
   "metadata": {},
   "outputs": [
    {
     "data": {
      "text/html": [
       "<div>\n",
       "<style scoped>\n",
       "    .dataframe tbody tr th:only-of-type {\n",
       "        vertical-align: middle;\n",
       "    }\n",
       "\n",
       "    .dataframe tbody tr th {\n",
       "        vertical-align: top;\n",
       "    }\n",
       "\n",
       "    .dataframe thead th {\n",
       "        text-align: right;\n",
       "    }\n",
       "</style>\n",
       "<table border=\"1\" class=\"dataframe\">\n",
       "  <thead>\n",
       "    <tr style=\"text-align: right;\">\n",
       "      <th></th>\n",
       "      <th>row_id</th>\n",
       "      <th>heart_disease_mortality_per_100k</th>\n",
       "    </tr>\n",
       "  </thead>\n",
       "  <tbody>\n",
       "    <tr>\n",
       "      <th>0</th>\n",
       "      <td>2</td>\n",
       "      <td>252</td>\n",
       "    </tr>\n",
       "    <tr>\n",
       "      <th>1</th>\n",
       "      <td>3</td>\n",
       "      <td>369</td>\n",
       "    </tr>\n",
       "    <tr>\n",
       "      <th>2</th>\n",
       "      <td>7</td>\n",
       "      <td>377</td>\n",
       "    </tr>\n",
       "    <tr>\n",
       "      <th>3</th>\n",
       "      <td>9</td>\n",
       "      <td>370</td>\n",
       "    </tr>\n",
       "  </tbody>\n",
       "</table>\n",
       "</div>"
      ],
      "text/plain": [
       "   row_id  heart_disease_mortality_per_100k\n",
       "0       2                               252\n",
       "1       3                               369\n",
       "2       7                               377\n",
       "3       9                               370"
      ]
     },
     "execution_count": 21,
     "metadata": {},
     "output_type": "execute_result"
    }
   ],
   "source": [
    "# PREDICTIONS\n",
    "\n",
    "predictions = random_forest.predict(e_norm_1)\n",
    "# print predictions.shape\n",
    "#print predictions.shape\n",
    "\n",
    "#predictions = LR.predict(e_norm_1)\n",
    "#print len(predictions)\n",
    "#print predictions\n",
    "\n",
    "pred = pd.DataFrame(predictions)\n",
    "\n",
    "final_pd = pd.concat([e3['row_id'],pred],axis=1,join_axes=[e3['row_id'].index])\n",
    "#pd.set_option('display.max_rows', 2405)\n",
    "final_pd.columns = final_pd.columns.map(str)\n",
    "final_pd.rename(columns={'row_id':'row_id','0': 'heart_disease_mortality_per_100k'}, inplace=True)\n",
    "final_pd['heart_disease_mortality_per_100k'] = final_pd['heart_disease_mortality_per_100k'].astype(int)\n",
    "final_pd.head(4)"
   ]
  },
  {
   "cell_type": "code",
   "execution_count": 22,
   "metadata": {},
   "outputs": [
    {
     "data": {
      "text/plain": [
       "row_id                              3160.838636\n",
       "heart_disease_mortality_per_100k     353.862662\n",
       "dtype: float64"
      ]
     },
     "execution_count": 22,
     "metadata": {},
     "output_type": "execute_result"
    }
   ],
   "source": [
    "final_pd.mean()"
   ]
  },
  {
   "cell_type": "code",
   "execution_count": 23,
   "metadata": {},
   "outputs": [
    {
     "data": {
      "text/plain": [
       "row_id                              3146.5\n",
       "heart_disease_mortality_per_100k     362.0\n",
       "dtype: float64"
      ]
     },
     "execution_count": 23,
     "metadata": {},
     "output_type": "execute_result"
    }
   ],
   "source": [
    "final_pd.median()"
   ]
  },
  {
   "cell_type": "code",
   "execution_count": 24,
   "metadata": {},
   "outputs": [],
   "source": [
    "# Generating Submission File\n",
    "final_pd.to_csv('submission_13.csv',index=False)"
   ]
  },
  {
   "cell_type": "code",
   "execution_count": 727,
   "metadata": {},
   "outputs": [
    {
     "data": {
      "text/plain": [
       "row_id                              3160.838636\n",
       "heart_disease_mortality_per_100k     285.402922\n",
       "dtype: float64"
      ]
     },
     "execution_count": 727,
     "metadata": {},
     "output_type": "execute_result"
    }
   ],
   "source": [
    "aise_hee = pd.read_csv('submission_2.csv')\n",
    "aise_hee.mean()"
   ]
  },
  {
   "cell_type": "code",
   "execution_count": 612,
   "metadata": {},
   "outputs": [
    {
     "data": {
      "text/plain": [
       "row_id                              3146.5\n",
       "heart_disease_mortality_per_100k     283.0\n",
       "dtype: float64"
      ]
     },
     "execution_count": 612,
     "metadata": {},
     "output_type": "execute_result"
    }
   ],
   "source": [
    "aise_hee.median()"
   ]
  },
  {
   "cell_type": "code",
   "execution_count": null,
   "metadata": {},
   "outputs": [],
   "source": []
  }
 ],
 "metadata": {
  "kernelspec": {
   "display_name": "Python 2",
   "language": "python",
   "name": "python2"
  },
  "language_info": {
   "codemirror_mode": {
    "name": "ipython",
    "version": 2
   },
   "file_extension": ".py",
   "mimetype": "text/x-python",
   "name": "python",
   "nbconvert_exporter": "python",
   "pygments_lexer": "ipython2",
   "version": "2.7.12"
  }
 },
 "nbformat": 4,
 "nbformat_minor": 2
}
